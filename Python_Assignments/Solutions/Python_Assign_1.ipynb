{
 "cells": [
  {
   "cell_type": "code",
   "execution_count": 4,
   "id": "618174d9",
   "metadata": {},
   "outputs": [
    {
     "name": "stdout",
     "output_type": "stream",
     "text": [
      "Welcome Shail\n"
     ]
    }
   ],
   "source": [
    "name=\"Shail\"\n",
    "if name == \"Shail\":\n",
    "    print(\"Welcome\",name)"
   ]
  },
  {
   "cell_type": "code",
   "execution_count": 7,
   "id": "7d8fdb7e",
   "metadata": {},
   "outputs": [
    {
     "name": "stdout",
     "output_type": "stream",
     "text": [
      "Enter name:Sahil\n",
      "Welcome\n"
     ]
    }
   ],
   "source": [
    "name=input(\"Enter name:\")\n",
    "if name == \"Shail\":\n",
    "    print(\"Welcome\",name)\n",
    "else:\n",
    "    print(\"Welcome\")"
   ]
  },
  {
   "cell_type": "code",
   "execution_count": 12,
   "id": "5a3ecd63",
   "metadata": {},
   "outputs": [
    {
     "name": "stdout",
     "output_type": "stream",
     "text": [
      "enter 1st no.:4\n",
      "enter 2nd no.:4\n",
      "equal\n"
     ]
    }
   ],
   "source": [
    "a=int(input(\"enter 1st no.:\"))\n",
    "b=int(input(\"enter 2nd no.:\"))\n",
    "if a>b:\n",
    "    print(\"a is greater number\",a)\n",
    "elif b>a:\n",
    "    print(\"b is greater number\",b)\n",
    "else:\n",
    "    print(\"equal\")"
   ]
  },
  {
   "cell_type": "code",
   "execution_count": 15,
   "id": "a52b8490",
   "metadata": {},
   "outputs": [
    {
     "name": "stdout",
     "output_type": "stream",
     "text": [
      "2\n"
     ]
    }
   ],
   "source": [
    "def linear_search(arr, target):\n",
    "    for i in range(len(arr)):\n",
    "        if arr[i] == target:\n",
    "            return i\n",
    "    return -1\n",
    "\n",
    "arr = [1, 3, 5, 7, 9]\n",
    "target = 5\n",
    "print(linear_search(arr, target)) "
   ]
  },
  {
   "cell_type": "code",
   "execution_count": 16,
   "id": "5f757f97",
   "metadata": {},
   "outputs": [
    {
     "name": "stdout",
     "output_type": "stream",
     "text": [
      "5\n",
      "-1\n"
     ]
    }
   ],
   "source": [
    "def binary_search(arr, target):\n",
    "    low = 0\n",
    "    high = len(arr) - 1\n",
    "    while low <= high:\n",
    "        mid = (low + high) // 2\n",
    "        if arr[mid] == target:\n",
    "            return mid\n",
    "        elif arr[mid] < target:\n",
    "            low = mid + 1\n",
    "        else:\n",
    "            high = mid - 1\n",
    "    return -1\n",
    "arr = [1, 3, 5, 7, 9, 11, 13, 15, 17, 19]\n",
    "target = 11\n",
    "print(binary_search(arr, target)) \n",
    "target = 2\n",
    "print(binary_search(arr, target)) "
   ]
  },
  {
   "cell_type": "code",
   "execution_count": 17,
   "id": "92970beb",
   "metadata": {},
   "outputs": [
    {
     "name": "stdout",
     "output_type": "stream",
     "text": [
      "[3, 4, 5, 6, 8]\n"
     ]
    }
   ],
   "source": [
    "def selection_sort(arr):\n",
    "    for i in range(len(arr)):\n",
    "        min_index = i\n",
    "        for j in range(i+1, len(arr)):\n",
    "            if arr[j] < arr[min_index]:\n",
    "                min_index = j\n",
    "        arr[i], arr[min_index] = arr[min_index], arr[i]\n",
    "\n",
    "arr = [5, 3, 8, 4, 6]\n",
    "selection_sort(arr)\n",
    "print(arr) "
   ]
  },
  {
   "cell_type": "code",
   "execution_count": 20,
   "id": "89252236",
   "metadata": {},
   "outputs": [
    {
     "name": "stdout",
     "output_type": "stream",
     "text": [
      "[3, 4, 5, 6, 8]\n"
     ]
    }
   ],
   "source": [
    "def merge_sort(arr):\n",
    "    if len(arr) <= 1:\n",
    "        return arr\n",
    "    mid = len(arr) // 2\n",
    "    left = arr[:mid]\n",
    "    right = arr[mid:]\n",
    "    left = merge_sort(left)\n",
    "    right = merge_sort(right)\n",
    "    return merge(left, right)\n",
    "def merge(left, right):\n",
    "    result = []\n",
    "    i = j = 0\n",
    "    while i < len(left) and j < len(right):\n",
    "        if left[i] <= right[j]:\n",
    "            result.append(left[i])\n",
    "            i += 1\n",
    "        else:\n",
    "            result.append(right[j])\n",
    "            j += 1\n",
    "    result.extend(left[i:])\n",
    "    result.extend(right[j:])\n",
    "    return result\n",
    "arr = [5, 3, 8, 4, 6]\n",
    "sorted_arr = merge_sort(arr)\n",
    "print(sorted_arr) "
   ]
  },
  {
   "cell_type": "code",
   "execution_count": 21,
   "id": "5dc009bb",
   "metadata": {},
   "outputs": [
    {
     "name": "stdout",
     "output_type": "stream",
     "text": [
      "[3, 4, 5, 6, 8]\n"
     ]
    }
   ],
   "source": [
    "def quick_sort(arr):\n",
    "    if len(arr) <= 1:\n",
    "        return arr\n",
    "\n",
    "    pivot = arr[len(arr) // 2]\n",
    "    left = [x for x in arr if x < pivot]\n",
    "    middle = [x for x in arr if x == pivot]\n",
    "    right = [x for x in arr if x > pivot]\n",
    "\n",
    "    return quick_sort(left) + middle + quick_sort(right)\n",
    "\n",
    "arr = [5, 3, 8, 4, 6]\n",
    "sorted_arr = quick_sort(arr)\n",
    "print(sorted_arr)  "
   ]
  },
  {
   "cell_type": "code",
   "execution_count": 24,
   "id": "b477776f",
   "metadata": {},
   "outputs": [
    {
     "name": "stdout",
     "output_type": "stream",
     "text": [
      "Select an operation:\n",
      "1. Add\n",
      "2. Subtract\n",
      "3. Multiply\n",
      "4. Divide\n",
      "5. Square\n",
      "6. Cube\n",
      "Enter your choice (1-6): 3\n",
      "Enter the first number: 5\n",
      "Enter the second number: 6\n",
      "30.0\n"
     ]
    }
   ],
   "source": [
    "def calculator():\n",
    "   print(\"Select an operation:\")\n",
    "   print(\"1. Add\")\n",
    "   print(\"2. Subtract\")\n",
    "   print(\"3. Multiply\")\n",
    "   print(\"4. Divide\")\n",
    "   print(\"5. Square\")\n",
    "   print(\"6. Cube\")\n",
    "\n",
    "   choice = int(input(\"Enter your choice (1-6): \"))\n",
    "\n",
    "   if choice == 1:\n",
    "       x = float(input(\"Enter the first number: \"))\n",
    "       y = float(input(\"Enter the second number: \"))\n",
    "       return x + y\n",
    "   elif choice == 2:\n",
    "       x = float(input(\"Enter the first number: \"))\n",
    "       y = float(input(\"Enter the second number: \"))\n",
    "       return x - y\n",
    "   elif choice == 3:\n",
    "       x = float(input(\"Enter the first number: \"))\n",
    "       y = float(input(\"Enter the second number: \"))\n",
    "       return x * y\n",
    "   elif choice == 4:\n",
    "       x = float(input(\"Enter the first number: \"))\n",
    "       y = float(input(\"Enter the second number: \"))\n",
    "       if y == 0:\n",
    "           return \"Error! Division by zero is not allowed.\"\n",
    "       else:\n",
    "           return x / y\n",
    "   elif choice == 5:\n",
    "       x = float(input(\"Enter a number: \"))\n",
    "       return x * x\n",
    "   elif choice == 6:\n",
    "       x = float(input(\"Enter a number: \"))\n",
    "       return x * x * x\n",
    "   else:\n",
    "       return \"Invalid choice. Please choose a number between 1 and 6.\"\n",
    "\n",
    "print(calculator())"
   ]
  },
  {
   "cell_type": "code",
   "execution_count": 26,
   "id": "32aec225",
   "metadata": {},
   "outputs": [
    {
     "name": "stdout",
     "output_type": "stream",
     "text": [
      "Enter name: shail\n",
      "Enter age: 19\n",
      "Enter programming language: java\n",
      "Enter years of experience: 2\n",
      "Name: shail\n",
      "Age: 19\n",
      "Language: java\n",
      "Experience: 2\n"
     ]
    }
   ],
   "source": [
    "class Programmer:\n",
    "    def __init__(self, name, age, language, experience):\n",
    "        self.name = name\n",
    "        self.age = age\n",
    "        self.language = language\n",
    "        self.experience = experience\n",
    "\n",
    "    def display(self):\n",
    "        print(f\"Name: {self.name}\")\n",
    "        print(f\"Age: {self.age}\")\n",
    "        print(f\"Language: {self.language}\")\n",
    "        print(f\"Experience: {self.experience}\")\n",
    "\n",
    "name = input(\"Enter name: \")\n",
    "age = int(input(\"Enter age: \"))\n",
    "language = input(\"Enter programming language: \")\n",
    "experience = int(input(\"Enter years of experience: \"))\n",
    "\n",
    "p = Programmer(name, age, language, experience)\n",
    "\n",
    "p.display()\n"
   ]
  },
  {
   "cell_type": "code",
   "execution_count": null,
   "id": "e655dff0",
   "metadata": {},
   "outputs": [],
   "source": [
    "class Programmer:\n",
    "    def __init__(self, name, age, language, experience):\n",
    "        self.name = name\n",
    "        self.age = age\n",
    "        self.language = language\n",
    "        self.experience = experience\n",
    "\n",
    "    def display(self):\n",
    "        print(f\"Name: {self.name}\")\n",
    "        print(f\"Age: {self.age}\")\n",
    "        print(f\"Language: {self.language}\")\n",
    "        print(f\"Experience: {self.experience}\")\n",
    "\n",
    "programmers = []\n",
    "num_programmers = int(input(\"Enter number of programmers: \"))\n",
    "for i in range(num_programmers):\n",
    "    name = input(\"Enter name: \")\n",
    "    age = int(input(\"Enter age: \"))\n",
    "    language = input(\"Enter programming language: \")\n",
    "    experience = int(input(\"Enter years of experience: \"))\n",
    "    programmer = Programmer(name, age, language, experience)\n",
    "    programmers.append(programmer)\n",
    "\n",
    "for programmer in programmers:\n",
    "    programmer.display()\n"
   ]
  },
  {
   "cell_type": "code",
   "execution_count": null,
   "id": "3a0fb5ff",
   "metadata": {},
   "outputs": [],
   "source": [
    "def matrix_multiplication(matrix1, matrix2):\n",
    "\n",
    "    if len(matrix1[0]) != len(matrix2):\n",
    "        return \"Error: The number of columns in matrix1 is not equal to the number of rows in matrix2\"\n",
    "\n",
    "    result = [[0 for _ in range(len(matrix2[0]))] for _ in range(len(matrix1))]\n",
    "\n",
    "    for i in range(len(matrix1)):\n",
    "        for j in range(len(matrix2[0])):\n",
    "            for k in range(len(matrix2)):\n",
    "                result[i][j] += matrix1[i][k] * matrix2[k][j]\n",
    "\n",
    "    return result"
   ]
  },
  {
   "cell_type": "code",
   "execution_count": null,
   "id": "dd614363",
   "metadata": {},
   "outputs": [],
   "source": []
  }
 ],
 "metadata": {
  "kernelspec": {
   "display_name": "Python 3 (ipykernel)",
   "language": "python",
   "name": "python3"
  },
  "language_info": {
   "codemirror_mode": {
    "name": "ipython",
    "version": 3
   },
   "file_extension": ".py",
   "mimetype": "text/x-python",
   "name": "python",
   "nbconvert_exporter": "python",
   "pygments_lexer": "ipython3",
   "version": "3.11.5"
  }
 },
 "nbformat": 4,
 "nbformat_minor": 5
}
